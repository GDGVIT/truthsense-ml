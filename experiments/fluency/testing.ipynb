{
 "cells": [
  {
   "cell_type": "code",
   "execution_count": 2,
   "id": "56ca26ca",
   "metadata": {},
   "outputs": [],
   "source": [
    "import os\n",
    "import joblib\n",
    "import numpy as np\n",
    "import pandas as pd\n",
    "import matplotlib.pyplot as plt\n",
    "\n",
    "import lightgbm as lgb\n",
    "import xgboost as xgb\n",
    "from sklearn.linear_model import LogisticRegression\n",
    "from sklearn.ensemble import RandomForestClassifier, StackingClassifier, VotingClassifier\n",
    "\n",
    "from preprocess import extract_features"
   ]
  },
  {
   "cell_type": "markdown",
   "id": "70280c91",
   "metadata": {},
   "source": [
    "## Checking the individual models"
   ]
  },
  {
   "cell_type": "code",
   "execution_count": 14,
   "id": "bf59976e",
   "metadata": {},
   "outputs": [],
   "source": [
    "\n",
    "def get_predictions(model):\n",
    "    unconfident_inputs = extract_features(\"../../samples/unconfident.m4a\")\n",
    "    confident_inputs = extract_features(\"../../samples/confident.m4a\")\n",
    "    tim_urban_inputs = extract_features(\"../../samples/tim-urban.m4a\")\n",
    "    almost_silent_inputs = extract_features('../../samples/almost silent.m4a')\n",
    "    stutter_inputs = extract_features(\"../../samples/stutter.m4a\")\n",
    "    \n",
    "    speeches = ['Unconfident speech', \"Confident speech\", \"Tim urban's speech\", \"Almost silent speech\", \"Stuttering speech\"]\n",
    "    classes = [\"Low\", \"Medium\", \"High\"]\n",
    "    \n",
    "    inputs = np.array([confident_inputs, unconfident_inputs, tim_urban_inputs, almost_silent_inputs, stutter_inputs])\n",
    "    \n",
    "    try:\n",
    "        res = model.predict_proba(inputs)\n",
    "    except:\n",
    "        res = model.predict(inputs)\n",
    "    \n",
    "    for i in range(len(res)):\n",
    "        print(f\"{speeches[i]} has fluency prediction {classes[res[i].argmax()]} with max probability {res[i].max()} and all probabilities {res[i]}\")\n",
    "        \n",
    "    return res"
   ]
  },
  {
   "cell_type": "code",
   "execution_count": 15,
   "id": "967d372d",
   "metadata": {},
   "outputs": [],
   "source": [
    "# Models\n",
    "lgbm = joblib.load(\"weights/lightgbm_model.pkl\", \"r\")\n",
    "xgbm = joblib.load(\"weights/xgboost_model.pkl\", \"r\")\n",
    "rf = joblib.load(\"weights/random_forest_model.pkl\", \"r\")\n",
    "stacking = joblib.load(\"weights/stacking_model.pkl\", \"r\")\n",
    "voting = joblib.load(\"weights/voting_model.pkl\", \"r\")"
   ]
  },
  {
   "cell_type": "code",
   "execution_count": 16,
   "id": "11e7735d",
   "metadata": {},
   "outputs": [
    {
     "name": "stdout",
     "output_type": "stream",
     "text": [
      "LGBM:\n",
      "Unconfident speech has fluency prediction High with max probability 0.7624521991316683 and all probabilities [0.11008127 0.12746653 0.7624522 ]\n",
      "Confident speech has fluency prediction High with max probability 0.8889332781983281 and all probabilities [0.04624357 0.06482315 0.88893328]\n",
      "Tim urban's speech has fluency prediction Low with max probability 0.5804870330573566 and all probabilities [0.58048703 0.38668391 0.03282905]\n",
      "Almost silent speech has fluency prediction High with max probability 0.8386745552642046 and all probabilities [0.10985609 0.05146936 0.83867456]\n",
      "Stuttering speech has fluency prediction High with max probability 0.773176976869852 and all probabilities [0.09554655 0.13127648 0.77317698]\n"
     ]
    }
   ],
   "source": [
    "print(\"LGBM:\")\n",
    "lgbm_preds = get_predictions(lgbm)"
   ]
  },
  {
   "cell_type": "code",
   "execution_count": null,
   "id": "dec631b9",
   "metadata": {},
   "outputs": [
    {
     "name": "stdout",
     "output_type": "stream",
     "text": [
      "XGB:\n",
      "Unconfident speech has fluency prediction High with max probability 0.9473029375076294 and all probabilities [0.0421029  0.01059419 0.94730294]\n",
      "Confident speech has fluency prediction High with max probability 0.9822513461112976 and all probabilities [0.00461397 0.0131347  0.98225135]\n",
      "Tim urban's speech has fluency prediction Medium with max probability 0.601862907409668 and all probabilities [0.39003375 0.6018629  0.00810337]\n",
      "Almost silent speech has fluency prediction High with max probability 0.7871266007423401 and all probabilities [0.05669266 0.15618077 0.7871266 ]\n",
      "Stuttering speech has fluency prediction High with max probability 0.6251384615898132 and all probabilities [0.05115107 0.32371047 0.62513846]\n"
     ]
    }
   ],
   "source": [
    "print(\"XGB:\")\n",
    "xgbm_preds = get_predictions(xgbm)"
   ]
  },
  {
   "cell_type": "code",
   "execution_count": null,
   "id": "a99d2289",
   "metadata": {},
   "outputs": [
    {
     "name": "stdout",
     "output_type": "stream",
     "text": [
      "Stack:\n",
      "Unconfident speech has fluency prediction High with max probability 0.9443275032808817 and all probabilities [0.02133516 0.03433733 0.9443275 ]\n",
      "Confident speech has fluency prediction High with max probability 0.9402191332266563 and all probabilities [0.02280849 0.03697238 0.94021913]\n",
      "Tim urban's speech has fluency prediction Medium with max probability 0.5272438773992747 and all probabilities [0.43208016 0.52724388 0.04067596]\n",
      "Almost silent speech has fluency prediction High with max probability 0.9163022030722637 and all probabilities [0.03414901 0.04954879 0.9163022 ]\n",
      "Stuttering speech has fluency prediction High with max probability 0.9199538601446233 and all probabilities [0.03073385 0.04931229 0.91995386]\n"
     ]
    }
   ],
   "source": [
    "print(\"Stack:\")\n",
    "preds = get_predictions(stacking)"
   ]
  },
  {
   "cell_type": "code",
   "execution_count": null,
   "id": "b648b094",
   "metadata": {},
   "outputs": [
    {
     "name": "stdout",
     "output_type": "stream",
     "text": [
      "Vote:\n",
      "Unconfident speech has fluency prediction Low with max probability 2 and all probabilities 2\n",
      "Confident speech has fluency prediction Low with max probability 2 and all probabilities 2\n",
      "Tim urban's speech has fluency prediction Low with max probability 0 and all probabilities 0\n",
      "Almost silent speech has fluency prediction Low with max probability 2 and all probabilities 2\n",
      "Stuttering speech has fluency prediction Low with max probability 2 and all probabilities 2\n"
     ]
    }
   ],
   "source": [
    "print(\"Vote:\")\n",
    "preds = get_predictions(voting)"
   ]
  },
  {
   "cell_type": "code",
   "execution_count": null,
   "id": "cefcc5af",
   "metadata": {},
   "outputs": [
    {
     "name": "stdout",
     "output_type": "stream",
     "text": [
      "Meta Forest:\n",
      "Unconfident speech has fluency prediction High with max probability 0.9010900423579745 and all probabilities [0.03952113 0.05938883 0.90109004]\n",
      "Confident speech has fluency prediction High with max probability 0.9010900423579745 and all probabilities [0.03952113 0.05938883 0.90109004]\n",
      "Tim urban's speech has fluency prediction Medium with max probability 0.5211616479915353 and all probabilities [0.44664939 0.52116165 0.03218896]\n",
      "Almost silent speech has fluency prediction High with max probability 0.9010900423579745 and all probabilities [0.03952113 0.05938883 0.90109004]\n",
      "Stuttering speech has fluency prediction High with max probability 0.9010900423579745 and all probabilities [0.03952113 0.05938883 0.90109004]\n"
     ]
    }
   ],
   "source": [
    "print(\"Meta Forest:\")\n",
    "lgbm_preds_inputs = lgbm_preds.argmax(axis=1)\n",
    "xgbm_preds_inputs = xgbm_preds.argmax(axis=1)\n",
    "\n",
    "rf_inputs = np.array([[lgbm_pred, xgbm_pred] for lgbm_pred, xgbm_pred in zip(lgbm_preds_inputs, xgbm_preds_inputs)])\n",
    "\n",
    "res = rf.predict_proba(rf_inputs)\n",
    "\n",
    "speeches = ['Unconfident speech', \"Confident speech\", \"Tim urban's speech\", \"Almost silent speech\", \"Stuttering speech\"]\n",
    "classes = [\"Low\", \"Medium\", \"High\"]\n",
    "for i in range(len(res)):\n",
    "    print(f\"{speeches[i]} has fluency prediction {classes[res[i].argmax()]} with max probability {res[i].max()} and all probabilities {res[i]}\")"
   ]
  },
  {
   "cell_type": "code",
   "execution_count": null,
   "id": "05486ae5",
   "metadata": {},
   "outputs": [],
   "source": []
  }
 ],
 "metadata": {
  "kernelspec": {
   "display_name": ".venv",
   "language": "python",
   "name": "python3"
  },
  "language_info": {
   "codemirror_mode": {
    "name": "ipython",
    "version": 3
   },
   "file_extension": ".py",
   "mimetype": "text/x-python",
   "name": "python",
   "nbconvert_exporter": "python",
   "pygments_lexer": "ipython3",
   "version": "3.10.11"
  }
 },
 "nbformat": 4,
 "nbformat_minor": 5
}
