{
 "cells": [
  {
   "cell_type": "code",
   "execution_count": null,
   "id": "56ca26ca",
   "metadata": {},
   "outputs": [],
   "source": [
    "import os\n",
    "import joblib\n",
    "import numpy as np\n",
    "import pandas as pd\n",
    "import matplotlib.pyplot as plt\n",
    "\n",
    "import lightgbm as lgb\n",
    "import xgboost as xgb\n",
    "from sklearn.linear_model import LogisticRegression\n",
    "from sklearn.ensemble import RandomForestClassifier, StackingClassifier, VotingClassifier\n",
    "\n",
    "from fluency.preprocessing.prepare_fluency_data import extract_features"
   ]
  },
  {
   "cell_type": "markdown",
   "id": "70280c91",
   "metadata": {},
   "source": [
    "## Checking the individual models"
   ]
  },
  {
   "cell_type": "code",
   "execution_count": 24,
   "id": "bf59976e",
   "metadata": {},
   "outputs": [],
   "source": [
    "\n",
    "def get_predictions(model):\n",
    "    unconfident_inputs = extract_features(\"../samples/unconfident.m4a\")\n",
    "    confident_inputs = extract_features(\"../samples/confident.m4a\")\n",
    "    tim_urban_inputs = extract_features(\"../samples/tim-urban.m4a\")\n",
    "    almost_silent_inputs = extract_features('../samples/almost silent.m4a')\n",
    "    stutter_inputs = extract_features(\"../samples/stutter.m4a\")\n",
    "    \n",
    "    speeches = ['Unconfident speech', \"Confident speech\", \"Tim urban's speech\", \"Almost silent speech\", \"Stuttering speech\"]\n",
    "    classes = [\"Low\", \"Medium\", \"High\"]\n",
    "    \n",
    "    inputs = np.array([confident_inputs, unconfident_inputs, tim_urban_inputs, almost_silent_inputs, stutter_inputs])\n",
    "    \n",
    "    try:\n",
    "        res = model.predict_proba(inputs)\n",
    "    except:\n",
    "        res = model.predict(inputs)\n",
    "    \n",
    "    for i in range(len(res)):\n",
    "        print(f\"{speeches[i]} has fluency prediction {classes[res[i].argmax()]} with max probability {res[i].max()} and all probabilities {res[i]}\")\n",
    "        \n",
    "    return res"
   ]
  },
  {
   "cell_type": "code",
   "execution_count": 25,
   "id": "967d372d",
   "metadata": {},
   "outputs": [],
   "source": [
    "# Models\n",
    "lgbm = joblib.load(\"models/weights/lightgbm_model.pkl\", \"r\")\n",
    "xgbm = joblib.load(\"models/weights/xgboost_model.pkl\", \"r\")\n",
    "rf = joblib.load(\"models/weights/random_forest_model.pkl\", \"r\")\n",
    "stacking = joblib.load(\"models/weights/stacking_model.pkl\", \"r\")\n",
    "voting = joblib.load(\"models/weights/voting_model.pkl\", \"r\")"
   ]
  },
  {
   "cell_type": "code",
   "execution_count": 26,
   "id": "11e7735d",
   "metadata": {},
   "outputs": [
    {
     "name": "stdout",
     "output_type": "stream",
     "text": [
      "LGBM:\n",
      "Unconfident speech has fluency prediction High with max probability 0.9794133759673181 and all probabilities [0.01300782 0.00757881 0.97941338]\n",
      "Confident speech has fluency prediction High with max probability 0.9880800021804874 and all probabilities [0.007899 0.004021 0.98808 ]\n",
      "Tim urban's speech has fluency prediction Medium with max probability 0.7397166514997517 and all probabilities [2.59889490e-01 7.39716651e-01 3.93858168e-04]\n",
      "Almost silent speech has fluency prediction High with max probability 0.9976553342721326 and all probabilities [2.06936549e-03 2.75300240e-04 9.97655334e-01]\n",
      "Stuttering speech has fluency prediction High with max probability 0.9021741479376008 and all probabilities [0.00285557 0.09497029 0.90217415]\n"
     ]
    }
   ],
   "source": [
    "print(\"LGBM:\")\n",
    "lgbm_preds = get_predictions(lgbm)"
   ]
  },
  {
   "cell_type": "code",
   "execution_count": 27,
   "id": "dec631b9",
   "metadata": {},
   "outputs": [
    {
     "name": "stdout",
     "output_type": "stream",
     "text": [
      "XGB:\n",
      "Unconfident speech has fluency prediction High with max probability 0.9801576733589172 and all probabilities [0.00822926 0.01161309 0.9801577 ]\n",
      "Confident speech has fluency prediction High with max probability 0.9557744860649109 and all probabilities [0.01056902 0.03365654 0.9557745 ]\n",
      "Tim urban's speech has fluency prediction Medium with max probability 0.5949495434761047 and all probabilities [0.3988108  0.59494954 0.00623962]\n",
      "Almost silent speech has fluency prediction High with max probability 0.9459777474403381 and all probabilities [0.05056522 0.00345709 0.94597775]\n",
      "Stuttering speech has fluency prediction High with max probability 0.8401636481285095 and all probabilities [0.03681974 0.12301659 0.84016365]\n"
     ]
    }
   ],
   "source": [
    "print(\"XGB:\")\n",
    "xgbm_preds = get_predictions(xgbm)"
   ]
  },
  {
   "cell_type": "code",
   "execution_count": 28,
   "id": "a99d2289",
   "metadata": {},
   "outputs": [
    {
     "name": "stdout",
     "output_type": "stream",
     "text": [
      "Stack:\n",
      "Unconfident speech has fluency prediction High with max probability 0.940479495076676 and all probabilities [0.02161025 0.03791025 0.9404795 ]\n",
      "Confident speech has fluency prediction High with max probability 0.7310327682426312 and all probabilities [0.11989947 0.14906777 0.73103277]\n",
      "Tim urban's speech has fluency prediction Medium with max probability 0.7876480987853998 and all probabilities [0.17179819 0.7876481  0.04055371]\n",
      "Almost silent speech has fluency prediction High with max probability 0.9327300662612285 and all probabilities [0.02637561 0.04089432 0.93273007]\n",
      "Stuttering speech has fluency prediction High with max probability 0.6330560648412025 and all probabilities [0.11439143 0.2525525  0.63305606]\n"
     ]
    }
   ],
   "source": [
    "print(\"Stack:\")\n",
    "preds = get_predictions(stacking)"
   ]
  },
  {
   "cell_type": "code",
   "execution_count": 29,
   "id": "b648b094",
   "metadata": {},
   "outputs": [
    {
     "name": "stdout",
     "output_type": "stream",
     "text": [
      "Vote:\n",
      "Unconfident speech has fluency prediction Low with max probability 2 and all probabilities 2\n",
      "Confident speech has fluency prediction Low with max probability 2 and all probabilities 2\n",
      "Tim urban's speech has fluency prediction Low with max probability 1 and all probabilities 1\n",
      "Almost silent speech has fluency prediction Low with max probability 2 and all probabilities 2\n",
      "Stuttering speech has fluency prediction Low with max probability 2 and all probabilities 2\n"
     ]
    }
   ],
   "source": [
    "print(\"Vote:\")\n",
    "preds = get_predictions(voting)"
   ]
  },
  {
   "cell_type": "code",
   "execution_count": 31,
   "id": "cefcc5af",
   "metadata": {},
   "outputs": [
    {
     "name": "stdout",
     "output_type": "stream",
     "text": [
      "Meta Forest:\n",
      "Unconfident speech has fluency prediction High with max probability 0.900273047316605 and all probabilities [0.03877356 0.06095339 0.90027305]\n",
      "Confident speech has fluency prediction High with max probability 0.900273047316605 and all probabilities [0.03877356 0.06095339 0.90027305]\n",
      "Tim urban's speech has fluency prediction Medium with max probability 0.7946079144677753 and all probabilities [0.15347057 0.79460791 0.05192152]\n",
      "Almost silent speech has fluency prediction High with max probability 0.900273047316605 and all probabilities [0.03877356 0.06095339 0.90027305]\n",
      "Stuttering speech has fluency prediction High with max probability 0.900273047316605 and all probabilities [0.03877356 0.06095339 0.90027305]\n"
     ]
    }
   ],
   "source": [
    "print(\"Meta Forest:\")\n",
    "lgbm_preds_inputs = lgbm_preds.argmax(axis=1)\n",
    "xgbm_preds_inputs = xgbm_preds.argmax(axis=1)\n",
    "\n",
    "rf_inputs = np.array([[lgbm_pred, xgbm_pred] for lgbm_pred, xgbm_pred in zip(lgbm_preds_inputs, xgbm_preds_inputs)])\n",
    "\n",
    "res = rf.predict_proba(rf_inputs)\n",
    "\n",
    "speeches = ['Unconfident speech', \"Confident speech\", \"Tim urban's speech\", \"Almost silent speech\", \"Stuttering speech\"]\n",
    "classes = [\"Low\", \"Medium\", \"High\"]\n",
    "for i in range(len(res)):\n",
    "    print(f\"{speeches[i]} has fluency prediction {classes[res[i].argmax()]} with max probability {res[i].max()} and all probabilities {res[i]}\")"
   ]
  },
  {
   "cell_type": "code",
   "execution_count": null,
   "id": "05486ae5",
   "metadata": {},
   "outputs": [],
   "source": []
  }
 ],
 "metadata": {
  "kernelspec": {
   "display_name": "venv",
   "language": "python",
   "name": "python3"
  },
  "language_info": {
   "codemirror_mode": {
    "name": "ipython",
    "version": 3
   },
   "file_extension": ".py",
   "mimetype": "text/x-python",
   "name": "python",
   "nbconvert_exporter": "python",
   "pygments_lexer": "ipython3",
   "version": "3.13.3"
  }
 },
 "nbformat": 4,
 "nbformat_minor": 5
}
